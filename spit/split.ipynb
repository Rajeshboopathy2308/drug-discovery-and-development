{
 "cells": [
  {
   "cell_type": "code",
   "execution_count": 2,
   "metadata": {},
   "outputs": [],
   "source": [
    "import pickle\n",
    "import os\n",
    "\n",
    "def split_file(filename, chunk_size=90 * 1024 * 1024):\n",
    "    with open(filename, 'rb') as f:\n",
    "        chunk_num = 0\n",
    "        while True:\n",
    "            chunk = f.read(chunk_size)\n",
    "            if not chunk:\n",
    "                break\n",
    "            with open(f'{filename}.part{chunk_num}', 'wb') as chunk_file:\n",
    "                chunk_file.write(chunk)\n",
    "            chunk_num += 1\n",
    "\n",
    "split_file('drug_prediction_model.pkl')\n"
   ]
  },
  {
   "cell_type": "code",
   "execution_count": 3,
   "metadata": {},
   "outputs": [],
   "source": [
    "def assemble_file(output_filename, chunks_pattern):\n",
    "    with open(output_filename, 'wb') as output_file:\n",
    "        chunk_num = 0\n",
    "        while True:\n",
    "            chunk_filename = chunks_pattern.format(chunk_num)\n",
    "            if not os.path.exists(chunk_filename):\n",
    "                break\n",
    "            with open(chunk_filename, 'rb') as chunk_file:\n",
    "                output_file.write(chunk_file.read())\n",
    "            chunk_num += 1\n",
    "\n",
    "assemble_file('reassembled_model.pkl', 'drug_prediction_model.pkl.part{}')\n"
   ]
  },
  {
   "cell_type": "code",
   "execution_count": null,
   "metadata": {},
   "outputs": [],
   "source": [
    "with open('reassembled_model.pkl', 'rb') as model_file:\n",
    "    model = pickle.load(model_file)\n",
    "\n",
    "# Now you can use `model` as you normally would in your code\n",
    "model.predict()"
   ]
  }
 ],
 "metadata": {
  "kernelspec": {
   "display_name": "Python 3",
   "language": "python",
   "name": "python3"
  },
  "language_info": {
   "codemirror_mode": {
    "name": "ipython",
    "version": 3
   },
   "file_extension": ".py",
   "mimetype": "text/x-python",
   "name": "python",
   "nbconvert_exporter": "python",
   "pygments_lexer": "ipython3",
   "version": "3.10.8"
  }
 },
 "nbformat": 4,
 "nbformat_minor": 2
}
